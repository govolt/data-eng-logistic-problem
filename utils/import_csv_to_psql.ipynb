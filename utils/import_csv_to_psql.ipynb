{
 "cells": [
  {
   "cell_type": "code",
   "execution_count": 9,
   "metadata": {},
   "outputs": [
    {
     "name": "stdout",
     "output_type": "stream",
     "text": [
      "Requirement already satisfied: psycopg2 in /opt/homebrew/Caskroom/miniconda/base/envs/lab/lib/python3.12/site-packages (2.9.9)\n"
     ]
    }
   ],
   "source": [
    "!pip install psycopg2"
   ]
  },
  {
   "cell_type": "code",
   "execution_count": 10,
   "metadata": {},
   "outputs": [],
   "source": [
    "import os\n",
    "import csv\n",
    "\n",
    "def generate_sql(config):\n",
    "    sql_content = \"\"\n",
    "    for table_config in config:\n",
    "        table_name = table_config[\"table\"]\n",
    "        fields = \", \".join([f.split()[0] for f in table_config[\"fields\"]])\n",
    "        create_table_statement = f\"CREATE TABLE IF NOT EXISTS {table_name} ({', '.join(table_config['fields'])});\\n\"\n",
    "\n",
    "        # Add the CREATE TABLE statement to the SQL file content\n",
    "        sql_content += create_table_statement\n",
    "\n",
    "        # Read data from CSV and generate INSERT statements\n",
    "        with open(table_config[\"csv_file\"], newline='') as csvfile:\n",
    "            reader = csv.reader(csvfile)\n",
    "            next(reader)  # Skip the header row\n",
    "            for row in reader:\n",
    "                values = []\n",
    "                for value in row:\n",
    "                    # Check if the value is numeric\n",
    "                    if value.isdigit():\n",
    "                        values.append(value)\n",
    "                    else:\n",
    "                        # Properly escape single quotes in the value and enclose it in single quotes\n",
    "                        escaped_value = value.replace(\"'\", \"''\")\n",
    "                        values.append(f\"'{escaped_value}'\")\n",
    "                insert_statement = f\"INSERT INTO {table_name} ({fields}) VALUES ({', '.join(values)});\\n\"\n",
    "                sql_content += insert_statement\n",
    "\n",
    "    # Ensure the output directory exists for a single output file\n",
    "    output_file = \"../initdb/combined_sql_output.sql\"\n",
    "    output_dir = os.path.dirname(output_file)\n",
    "    if not os.path.exists(output_dir):\n",
    "        os.makedirs(output_dir)\n",
    "\n",
    "    # Write the combined SQL content to a single output file\n",
    "    with open(output_file, \"w\") as file:\n",
    "        file.write(sql_content)\n",
    "    print(f\"Combined SQL written to {output_file}\")\n"
   ]
  },
  {
   "cell_type": "code",
   "execution_count": 11,
   "metadata": {},
   "outputs": [
    {
     "name": "stdout",
     "output_type": "stream",
     "text": [
      "Combined SQL written to ../initdb/combined_sql_output.sql\n"
     ]
    }
   ],
   "source": [
    "config = [\n",
    "    {\n",
    "        \"table\": \"logistics_operators\",\n",
    "        \"csv_file\": \"logistics_operators.csv\",\n",
    "        \"fields\":[\n",
    "            \"id INT PRIMARY KEY\",\n",
    "            \"Operator VARCHAR(255)\",\n",
    "            \"Team CHAR(1)\"\n",
    "        ]\n",
    "    },\n",
    "    {\n",
    "        \"table\": \"logistics_vehicles\",\n",
    "        \"csv_file\": \"logistics_vehicles.csv\",\n",
    "        \"fields\":[\n",
    "            \"id INT PRIMARY KEY\",\n",
    "            \"Vehicle VARCHAR(255)\",\n",
    "            \"Brand VARCHAR(255)\",\n",
    "            \"Purchased INT\"\n",
    "        ]\n",
    "    }\n",
    "]\n",
    "\n",
    "generate_sql(config)\n"
   ]
  }
 ],
 "metadata": {
  "kernelspec": {
   "display_name": "lab",
   "language": "python",
   "name": "python3"
  },
  "language_info": {
   "codemirror_mode": {
    "name": "ipython",
    "version": 3
   },
   "file_extension": ".py",
   "mimetype": "text/x-python",
   "name": "python",
   "nbconvert_exporter": "python",
   "pygments_lexer": "ipython3",
   "version": "3.12.2"
  }
 },
 "nbformat": 4,
 "nbformat_minor": 2
}
